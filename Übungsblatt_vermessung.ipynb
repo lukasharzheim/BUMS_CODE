#!/usr/bin/env python3
# -*- coding: utf-8 -*-
"""
Created on Fri May 28 20:19:02 2021

@author: benutzer
"""

import cv2
import numpy as np
import matplotlib.pyplot as plt 
%matplotlib inline



img1=cv2.imread("/Users/benutzer/Downloads/Relaiskontakt.bmp",0)

plt.hist(img1.flatten(), bins=51)

plt.gray()

(t,img1_seg)=cv2.threshold(img1, 70, 255, cv2.THRESH_BINARY_INV)

plt.imshow(img1_seg)


markers=np.zeros(img1.shape, dtype='int32')
markers+=(img1>220) * 1
markers+=(img1<40) * 2

seg = cv2.watershed(cv2.merge([img1,img1,img1]), markers)
plt.imshow(seg)

boundary = np.zeros(img1.shape, dtype='uint8')
boundary[seg==-1] = 1

plt.imshow(boundary)
zoom=boundary[200:400, 200:400]
plt.imshow(zoom)

(nr, cc)=cv2.connectedComponents(zoom)
plt.imshow(cc)


img2save=cv2.merge([img1,img1,img1])
r=img2save[200:400, 200:400,0]
r[ cc!=0 ] = 255

import cv2

img2save=cv2.merge([img1,img1,img1]) 
r=img2save[200:400, 200:400,0]
r[ cc!=0 ] = 255
g=img2save[200:400, 200:400,1]
g[ cc!=0 ] = 0
b=img2save[200:400, 200:400,1]
b[ cc!=0 ] = 0 
plt.imsave("overlay_version1.png", img2save)
plt.imsave("edges_version1.png", (cc!=0)*1 )
plt.figure(figsize=(14,10))
plt.imshow(img2save)



coords1=np.array( np.where(cc==1) ) 
coords2=np.array( np.where(cc==2) )

coords1.shape, coords2.shape



l1=coords1.shape[1] 
l2=coords2.shape[1]
l1, l2

plt.plot(coords1[1], coords1[0], 'ro') 
plt.plot(coords2[1], coords2[0], 'go')

dists=np.zeros( (l1,l2) ) 
for i in range(l1):
    for j in range(l2):
        dists[i,j]=np.sqrt( (coords1[0,i] - coords2[0,j])**2 + (coords1[1,i] - coords2[1,j])**2 )


(min1, min2)=np.unravel_index(np.argmin(dists), (l1, l2)) 
min1, min2


pt1=( coords1[1,min1], coords1[0,min1])
pt1


pt2=(coords2[1,min2], coords2[0,min2])
pt2

tmp2=zoom.copy()
cv2.line(tmp2, pt1 , pt2, 2, 2)
plt.imshow(tmp2)
plt.title("Minimum distance: %f" % dists[min1, min2])








